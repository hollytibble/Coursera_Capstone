{
 "cells": [
  {
   "cell_type": "markdown",
   "metadata": {},
   "source": [
    "# Holly's Data Science Capstone Projects"
   ]
  },
  {
   "cell_type": "markdown",
   "metadata": {},
   "source": [
    "## Part 1: Install Packages"
   ]
  },
  {
   "cell_type": "code",
   "execution_count": null,
   "metadata": {
    "scrolled": true
   },
   "outputs": [],
   "source": [
    "import numpy as np # library to handle data in a vectorized manner\n",
    "\n",
    "import pandas as pd # library for data analsysis\n",
    "pd.set_option('display.max_columns', None)\n",
    "pd.set_option('display.max_rows', None)\n",
    "\n",
    "import json # library to handle JSON files\n",
    "\n",
    "from geopy.geocoders import Nominatim # convert an address into latitude and longitude values\n",
    "\n",
    "import requests # library to handle requests\n",
    "from pandas.io.json import json_normalize # tranform JSON file into a pandas dataframe\n",
    "\n",
    "# Matplotlib and associated plotting modules\n",
    "import matplotlib.cm as cm\n",
    "import matplotlib.colors as colors\n",
    "\n",
    "# import k-means from clustering stage\n",
    "from sklearn.cluster import KMeans\n",
    "\n",
    "import folium # map rendering library\n",
    "\n",
    "print('Libraries imported.')"
   ]
  },
  {
   "cell_type": "markdown",
   "metadata": {},
   "source": [
    "## Part 2: Import Data "
   ]
  },
  {
   "cell_type": "markdown",
   "metadata": {},
   "source": [
    "### Dataset 1: Locations of community centres in Edinburgh"
   ]
  },
  {
   "cell_type": "code",
   "execution_count": null,
   "metadata": {
    "scrolled": true
   },
   "outputs": [],
   "source": [
    "df=pd.read_csv(\"https://data.edinburghopendata.info/dataset/2a8a1335-06be-4766-96f8-07638610f1bf/resource/36ead7e6-8234-4317-a73a-5575c1da64f8/download/directoryexport61.csv\")\n",
    "df = df[['Toilet','Location']]\n",
    "df.head()"
   ]
  },
  {
   "cell_type": "markdown",
   "metadata": {},
   "source": [
    "### Dataset 2: Locations of Play Areas"
   ]
  },
  {
   "cell_type": "code",
   "execution_count": null,
   "metadata": {},
   "outputs": [],
   "source": [
    "df2=pd.read_csv(\"https://data.edinburghopendata.info/dataset/a22a4332-b73f-4477-834c-76d22ed8f993/resource/0e3b0a25-5bae-45b0-beb4-e63178305741/download/directoryexport60.csv\")\n",
    "df2 = df2[['Site','Location map']]\n",
    "df2.head()"
   ]
  },
  {
   "cell_type": "markdown",
   "metadata": {},
   "source": [
    "## Process first two datasets"
   ]
  },
  {
   "cell_type": "markdown",
   "metadata": {},
   "source": [
    "### We only want to keep the play areas which have nearby toilets.  To identify these, I will do a many-to-many merge, drop the pairs with too large a distance between, and then keep only the unique pplay areas remaining."
   ]
  },
  {
   "cell_type": "code",
   "execution_count": null,
   "metadata": {},
   "outputs": [],
   "source": [
    "# First, let's drop any na data\n",
    "df=df.dropna()\n",
    "df.reset_index(drop=True)\n",
    "df2=df2.dropna()\n",
    "df2.reset_index(drop=True)\n",
    "\n",
    "# Next, let's check the size of each dataframe so we can verify the merge worked well\n",
    "print('The first dataset has {} rows'.format(df.shape[0]))\n",
    "print('The second dataset has {} rows'.format(df2.shape[0]))\n",
    "print('The merged dataset should have {} rows'.format(df.shape[0]*df2.shape[0]))"
   ]
  },
  {
   "cell_type": "code",
   "execution_count": null,
   "metadata": {},
   "outputs": [],
   "source": [
    "## We have to create a temporary variable with the value 1 for all rows, \n",
    "## as merge won't let you join without a join key\n",
    "df['tmp'] = 1\n",
    "df2['tmp'] = 1\n",
    "dfx=pd.merge(df,df2, on=['tmp'])\n",
    "dfx=dfx.drop('tmp', axis=1)\n",
    "print('The merged dataset has {} rows'.format(dfx.shape[0]))\n",
    "dfx.head()"
   ]
  },
  {
   "cell_type": "markdown",
   "metadata": {},
   "source": [
    "### Great! Next we need to work out the distance between the toilets and the parks"
   ]
  },
  {
   "cell_type": "code",
   "execution_count": null,
   "metadata": {},
   "outputs": [],
   "source": [
    "import geopy.distance\n",
    "dfx['distance'] = round(dfx.apply(lambda row: geopy.distance.distance(row['Location'], \n",
    "                                                                         row['Location map']).km, \n",
    "                                     axis=1),1)\n",
    "dfx.head()"
   ]
  },
  {
   "cell_type": "code",
   "execution_count": null,
   "metadata": {},
   "outputs": [],
   "source": [
    "# Let's drop those with distance more than 2km\n",
    "dfx=dfx[dfx['distance']<=2]\n",
    "dfx.head()"
   ]
  },
  {
   "cell_type": "code",
   "execution_count": null,
   "metadata": {},
   "outputs": [],
   "source": [
    "# Keep only unique sites\n",
    "dfx=dfx[['Site','Location map','distance']]\n",
    "dfx.sort_values(by=['Site','distance'], ascending=True, axis=0, inplace=True)\n",
    "dfx.head()"
   ]
  },
  {
   "cell_type": "code",
   "execution_count": null,
   "metadata": {},
   "outputs": [],
   "source": [
    "# rename 'distance' to 'nearest_toilet_km'\n",
    "dfx.rename(columns={'distance':'nearest_toilet_km',\n",
    "                          'Site':'PlayArea'},inplace=True)\n",
    "\n",
    "# keep the first record (distance to closest toilet) per play area\n",
    "dfx_slice = dfx.groupby('PlayArea', axis=0).first()\n",
    "\n",
    "# Split the coordinates into latitude and longitude, as the next function will need\n",
    "dfx_slice[['Latitude','Longitude']]=dfx_slice['Location map'].str.split(',', expand=True)\n",
    "dfx_slice.head()"
   ]
  },
  {
   "cell_type": "markdown",
   "metadata": {},
   "source": [
    "### Dataset 3: Locations of Nearby Venues"
   ]
  },
  {
   "cell_type": "code",
   "execution_count": null,
   "metadata": {},
   "outputs": [],
   "source": [
    "def getNearbyVenues(names, latitudes, longitudes):\n",
    "    \n",
    "    venues_list=[]\n",
    "    for name, lat, lng in zip(names, latitudes, longitudes):\n",
    "        url = 'https://api.foursquare.com/v2/venues/explore?&client_id=PBIUIPDGY42UF5KTZOLDQI1DDLGCSYDTTC54CN5QVSI4KV0L&client_secret=KZ4S0TCURB2O2MP4AOQTC3CBXKTE54KG1VCVKPHHS5EH4IYB&v=20180605&ll={},{}&radius=500&limit=50'.format(\n",
    "            lat, lng)\n",
    "        results = requests.get(url).json()[\"response\"]['groups'][0]['items']\n",
    "        venues_list.append([(\n",
    "            name, \n",
    "            lat, \n",
    "            lng, \n",
    "            v['venue']['name'], \n",
    "            v['venue']['location']['lat'], \n",
    "            v['venue']['location']['lng'],  \n",
    "            v['venue']['categories'][0]['name']) for v in results])\n",
    "        nearby_venues = pd.DataFrame([item for venue_list in venues_list for item in venue_list])\n",
    "        nearby_venues.columns = ['Play_Area', \n",
    "                  'Latitude', \n",
    "                  'Longitude', \n",
    "                  'Venue', \n",
    "                  'Venue Latitude', \n",
    "                  'Venue Longitude', \n",
    "                  'Venue Category']\n",
    "    return(nearby_venues)"
   ]
  },
  {
   "cell_type": "code",
   "execution_count": null,
   "metadata": {},
   "outputs": [],
   "source": [
    "playarea_venues = getNearbyVenues(names=dfx_slice.index,\n",
    "                                   latitudes=dfx_slice['Latitude'],\n",
    "                                   longitudes=dfx_slice['Longitude'])\n",
    "playarea_venues.head()"
   ]
  },
  {
   "cell_type": "code",
   "execution_count": null,
   "metadata": {},
   "outputs": [],
   "source": [
    "# We are only interested in coffee shops and cafes\n",
    "playarea_venues=playarea_venues[playarea_venues['Venue Category'].isin([\"Café\",\"Coffee Shop\"])]"
   ]
  },
  {
   "cell_type": "code",
   "execution_count": null,
   "metadata": {},
   "outputs": [],
   "source": [
    "playarea_venues.head()"
   ]
  },
  {
   "cell_type": "code",
   "execution_count": null,
   "metadata": {},
   "outputs": [],
   "source": [
    "# And we only want those within a kilometre of the park\n",
    "playarea_venues['nearest_coffee_km'] = round(playarea_venues.apply(lambda row: geopy.distance.distance((row['Latitude'],row['Longitude']), \n",
    "                                                                         (row['Venue Latitude'],row['Venue Longitude'])).km, \n",
    "                                     axis=1),1)\n",
    "playarea_venues=playarea_venues[playarea_venues['nearest_coffee_km']<=1]\n",
    "playarea_venues=playarea_venues[['Play_Area','Venue','nearest_coffee_km']]\n",
    "playarea_venues.head(10)"
   ]
  },
  {
   "cell_type": "code",
   "execution_count": null,
   "metadata": {},
   "outputs": [],
   "source": []
  }
 ],
 "metadata": {
  "kernelspec": {
   "display_name": "Python 3",
   "language": "python",
   "name": "python3"
  },
  "language_info": {
   "codemirror_mode": {
    "name": "ipython",
    "version": 3
   },
   "file_extension": ".py",
   "mimetype": "text/x-python",
   "name": "python",
   "nbconvert_exporter": "python",
   "pygments_lexer": "ipython3",
   "version": "3.7.7"
  }
 },
 "nbformat": 4,
 "nbformat_minor": 4
}
