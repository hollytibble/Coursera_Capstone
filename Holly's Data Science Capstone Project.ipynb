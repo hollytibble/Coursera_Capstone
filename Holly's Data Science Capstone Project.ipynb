{
 "cells": [
  {
   "cell_type": "markdown",
   "metadata": {},
   "source": [
    "# Holly's Data Science Capstone Projects"
   ]
  },
  {
   "cell_type": "markdown",
   "metadata": {},
   "source": [
    "## Part 1: Install Packages"
   ]
  },
  {
   "cell_type": "code",
   "execution_count": 1,
   "metadata": {
    "scrolled": true
   },
   "outputs": [
    {
     "name": "stdout",
     "output_type": "stream",
     "text": [
      "Libraries imported.\n"
     ]
    }
   ],
   "source": [
    "import numpy as np # library to handle data in a vectorized manner\n",
    "\n",
    "import pandas as pd # library for data analsysis\n",
    "pd.set_option('display.max_columns', None)\n",
    "pd.set_option('display.max_rows', None)\n",
    "\n",
    "import json # library to handle JSON files\n",
    "\n",
    "from geopy.geocoders import Nominatim # convert an address into latitude and longitude values\n",
    "\n",
    "import requests # library to handle requests\n",
    "from pandas.io.json import json_normalize # tranform JSON file into a pandas dataframe\n",
    "\n",
    "# Matplotlib and associated plotting modules\n",
    "import matplotlib.pyplot as plt\n",
    "import matplotlib.cm as cm\n",
    "import matplotlib.colors as colors\n",
    "\n",
    "# import k-means from clustering stage\n",
    "from sklearn.cluster import KMeans\n",
    "\n",
    "import folium # map rendering library\n",
    "\n",
    "print('Libraries imported.')"
   ]
  },
  {
   "cell_type": "markdown",
   "metadata": {},
   "source": [
    "## Part 2: Import Data "
   ]
  },
  {
   "cell_type": "markdown",
   "metadata": {},
   "source": [
    "### Dataset 1: Locations of community centres in Edinburgh"
   ]
  },
  {
   "cell_type": "code",
   "execution_count": 4,
   "metadata": {
    "scrolled": true
   },
   "outputs": [
    {
     "data": {
      "text/html": [
       "<div>\n",
       "<style scoped>\n",
       "    .dataframe tbody tr th:only-of-type {\n",
       "        vertical-align: middle;\n",
       "    }\n",
       "\n",
       "    .dataframe tbody tr th {\n",
       "        vertical-align: top;\n",
       "    }\n",
       "\n",
       "    .dataframe thead th {\n",
       "        text-align: right;\n",
       "    }\n",
       "</style>\n",
       "<table border=\"1\" class=\"dataframe\">\n",
       "  <thead>\n",
       "    <tr style=\"text-align: right;\">\n",
       "      <th></th>\n",
       "      <th>Toilet</th>\n",
       "      <th>Toilet_Location</th>\n",
       "    </tr>\n",
       "  </thead>\n",
       "  <tbody>\n",
       "    <tr>\n",
       "      <th>0</th>\n",
       "      <td>Ainslie Park Leisure Centre</td>\n",
       "      <td>55.972014831,-3.2304253895</td>\n",
       "    </tr>\n",
       "    <tr>\n",
       "      <th>1</th>\n",
       "      <td>Bath Street Public Toilet</td>\n",
       "      <td>55.952976,-3.114088</td>\n",
       "    </tr>\n",
       "    <tr>\n",
       "      <th>2</th>\n",
       "      <td>Bingham Community Centre</td>\n",
       "      <td>55.9403279768,-3.12461868252</td>\n",
       "    </tr>\n",
       "    <tr>\n",
       "      <th>3</th>\n",
       "      <td>Blackhall Library</td>\n",
       "      <td>55.9616673126,-3.2611578066</td>\n",
       "    </tr>\n",
       "    <tr>\n",
       "      <th>4</th>\n",
       "      <td>Braid Hills Golf Course</td>\n",
       "      <td>55.9163063539,-3.20571551039</td>\n",
       "    </tr>\n",
       "  </tbody>\n",
       "</table>\n",
       "</div>"
      ],
      "text/plain": [
       "                        Toilet               Toilet_Location\n",
       "0  Ainslie Park Leisure Centre    55.972014831,-3.2304253895\n",
       "1    Bath Street Public Toilet           55.952976,-3.114088\n",
       "2     Bingham Community Centre  55.9403279768,-3.12461868252\n",
       "3            Blackhall Library   55.9616673126,-3.2611578066\n",
       "4      Braid Hills Golf Course  55.9163063539,-3.20571551039"
      ]
     },
     "execution_count": 4,
     "metadata": {},
     "output_type": "execute_result"
    }
   ],
   "source": [
    "df=pd.read_csv(\"https://data.edinburghopendata.info/dataset/2a8a1335-06be-4766-96f8-07638610f1bf/resource/36ead7e6-8234-4317-a73a-5575c1da64f8/download/directoryexport61.csv\")\n",
    "df = df[['Toilet','Location']]\n",
    "df.rename(columns={'Location':'Toilet_Location'},inplace=True)\n",
    "df.head()"
   ]
  },
  {
   "cell_type": "markdown",
   "metadata": {},
   "source": [
    "### Dataset 2: Locations of Play Areas"
   ]
  },
  {
   "cell_type": "code",
   "execution_count": 5,
   "metadata": {},
   "outputs": [
    {
     "data": {
      "text/html": [
       "<div>\n",
       "<style scoped>\n",
       "    .dataframe tbody tr th:only-of-type {\n",
       "        vertical-align: middle;\n",
       "    }\n",
       "\n",
       "    .dataframe tbody tr th {\n",
       "        vertical-align: top;\n",
       "    }\n",
       "\n",
       "    .dataframe thead th {\n",
       "        text-align: right;\n",
       "    }\n",
       "</style>\n",
       "<table border=\"1\" class=\"dataframe\">\n",
       "  <thead>\n",
       "    <tr style=\"text-align: right;\">\n",
       "      <th></th>\n",
       "      <th>Site</th>\n",
       "      <th>PlayArea_Location</th>\n",
       "    </tr>\n",
       "  </thead>\n",
       "  <tbody>\n",
       "    <tr>\n",
       "      <th>0</th>\n",
       "      <td>Admirality Street</td>\n",
       "      <td>55.97615152741767,-3.1789112091064453</td>\n",
       "    </tr>\n",
       "    <tr>\n",
       "      <th>1</th>\n",
       "      <td>Allison Park</td>\n",
       "      <td>55.95463010760622,-3.410053253173828</td>\n",
       "    </tr>\n",
       "    <tr>\n",
       "      <th>2</th>\n",
       "      <td>Ardshiel Avenue (Torrence Park)</td>\n",
       "      <td>55.953523,-3.29278</td>\n",
       "    </tr>\n",
       "    <tr>\n",
       "      <th>3</th>\n",
       "      <td>Bailie Place (Rear Nos. 1-5)</td>\n",
       "      <td>55.943291,-3.111828</td>\n",
       "    </tr>\n",
       "    <tr>\n",
       "      <th>4</th>\n",
       "      <td>Balgreen Park</td>\n",
       "      <td>55.94174996445649,-3.2571029663085938</td>\n",
       "    </tr>\n",
       "  </tbody>\n",
       "</table>\n",
       "</div>"
      ],
      "text/plain": [
       "                              Site                      PlayArea_Location\n",
       "0                Admirality Street  55.97615152741767,-3.1789112091064453\n",
       "1                    Allison Park    55.95463010760622,-3.410053253173828\n",
       "2  Ardshiel Avenue (Torrence Park)                     55.953523,-3.29278\n",
       "3     Bailie Place (Rear Nos. 1-5)                    55.943291,-3.111828\n",
       "4                    Balgreen Park  55.94174996445649,-3.2571029663085938"
      ]
     },
     "execution_count": 5,
     "metadata": {},
     "output_type": "execute_result"
    }
   ],
   "source": [
    "df2=pd.read_csv(\"https://data.edinburghopendata.info/dataset/a22a4332-b73f-4477-834c-76d22ed8f993/resource/0e3b0a25-5bae-45b0-beb4-e63178305741/download/directoryexport60.csv\")\n",
    "df2 = df2[['Site','Location map']]\n",
    "df2.rename(columns={'Location map':'PlayArea_Location'},inplace=True)\n",
    "df2.head()"
   ]
  },
  {
   "cell_type": "markdown",
   "metadata": {},
   "source": [
    "## Process first two datasets"
   ]
  },
  {
   "cell_type": "markdown",
   "metadata": {},
   "source": [
    "### We only want to keep the play areas which have nearby toilets.  To identify these, I will do a many-to-many merge, drop the pairs with too large a distance between, and then keep only the unique pplay areas remaining."
   ]
  },
  {
   "cell_type": "code",
   "execution_count": 6,
   "metadata": {},
   "outputs": [
    {
     "name": "stdout",
     "output_type": "stream",
     "text": [
      "The first dataset has 97 rows\n",
      "The second dataset has 154 rows\n",
      "The merged dataset should have 14938 rows\n"
     ]
    }
   ],
   "source": [
    "# First, let's drop any na data\n",
    "df=df.dropna()\n",
    "df.reset_index(drop=True)\n",
    "df2=df2.dropna()\n",
    "df2.reset_index(drop=True)\n",
    "\n",
    "# Next, let's check the size of each dataframe so we can verify the merge worked well\n",
    "print('The first dataset has {} rows'.format(df.shape[0]))\n",
    "print('The second dataset has {} rows'.format(df2.shape[0]))\n",
    "print('The merged dataset should have {} rows'.format(df.shape[0]*df2.shape[0]))"
   ]
  },
  {
   "cell_type": "code",
   "execution_count": 7,
   "metadata": {},
   "outputs": [
    {
     "name": "stdout",
     "output_type": "stream",
     "text": [
      "The merged dataset has 14938 rows\n"
     ]
    },
    {
     "data": {
      "text/html": [
       "<div>\n",
       "<style scoped>\n",
       "    .dataframe tbody tr th:only-of-type {\n",
       "        vertical-align: middle;\n",
       "    }\n",
       "\n",
       "    .dataframe tbody tr th {\n",
       "        vertical-align: top;\n",
       "    }\n",
       "\n",
       "    .dataframe thead th {\n",
       "        text-align: right;\n",
       "    }\n",
       "</style>\n",
       "<table border=\"1\" class=\"dataframe\">\n",
       "  <thead>\n",
       "    <tr style=\"text-align: right;\">\n",
       "      <th></th>\n",
       "      <th>Toilet</th>\n",
       "      <th>Toilet_Location</th>\n",
       "      <th>Site</th>\n",
       "      <th>PlayArea_Location</th>\n",
       "    </tr>\n",
       "  </thead>\n",
       "  <tbody>\n",
       "    <tr>\n",
       "      <th>0</th>\n",
       "      <td>Ainslie Park Leisure Centre</td>\n",
       "      <td>55.972014831,-3.2304253895</td>\n",
       "      <td>Admirality Street</td>\n",
       "      <td>55.97615152741767,-3.1789112091064453</td>\n",
       "    </tr>\n",
       "    <tr>\n",
       "      <th>1</th>\n",
       "      <td>Ainslie Park Leisure Centre</td>\n",
       "      <td>55.972014831,-3.2304253895</td>\n",
       "      <td>Allison Park</td>\n",
       "      <td>55.95463010760622,-3.410053253173828</td>\n",
       "    </tr>\n",
       "    <tr>\n",
       "      <th>2</th>\n",
       "      <td>Ainslie Park Leisure Centre</td>\n",
       "      <td>55.972014831,-3.2304253895</td>\n",
       "      <td>Ardshiel Avenue (Torrence Park)</td>\n",
       "      <td>55.953523,-3.29278</td>\n",
       "    </tr>\n",
       "    <tr>\n",
       "      <th>3</th>\n",
       "      <td>Ainslie Park Leisure Centre</td>\n",
       "      <td>55.972014831,-3.2304253895</td>\n",
       "      <td>Bailie Place (Rear Nos. 1-5)</td>\n",
       "      <td>55.943291,-3.111828</td>\n",
       "    </tr>\n",
       "    <tr>\n",
       "      <th>4</th>\n",
       "      <td>Ainslie Park Leisure Centre</td>\n",
       "      <td>55.972014831,-3.2304253895</td>\n",
       "      <td>Balgreen Park</td>\n",
       "      <td>55.94174996445649,-3.2571029663085938</td>\n",
       "    </tr>\n",
       "  </tbody>\n",
       "</table>\n",
       "</div>"
      ],
      "text/plain": [
       "                        Toilet             Toilet_Location  \\\n",
       "0  Ainslie Park Leisure Centre  55.972014831,-3.2304253895   \n",
       "1  Ainslie Park Leisure Centre  55.972014831,-3.2304253895   \n",
       "2  Ainslie Park Leisure Centre  55.972014831,-3.2304253895   \n",
       "3  Ainslie Park Leisure Centre  55.972014831,-3.2304253895   \n",
       "4  Ainslie Park Leisure Centre  55.972014831,-3.2304253895   \n",
       "\n",
       "                              Site                      PlayArea_Location  \n",
       "0                Admirality Street  55.97615152741767,-3.1789112091064453  \n",
       "1                    Allison Park    55.95463010760622,-3.410053253173828  \n",
       "2  Ardshiel Avenue (Torrence Park)                     55.953523,-3.29278  \n",
       "3     Bailie Place (Rear Nos. 1-5)                    55.943291,-3.111828  \n",
       "4                    Balgreen Park  55.94174996445649,-3.2571029663085938  "
      ]
     },
     "execution_count": 7,
     "metadata": {},
     "output_type": "execute_result"
    }
   ],
   "source": [
    "## We have to create a temporary variable with the value 1 for all rows, \n",
    "## as merge won't let you join without a join key\n",
    "df['tmp'] = 1\n",
    "df2['tmp'] = 1\n",
    "df=pd.merge(df,df2, on=['tmp'])\n",
    "df=df.drop('tmp', axis=1)\n",
    "print('The merged dataset has {} rows'.format(df.shape[0]))\n",
    "df.head()"
   ]
  },
  {
   "cell_type": "markdown",
   "metadata": {},
   "source": [
    "### Great! Next we need to work out the distance between the toilets and the parks"
   ]
  },
  {
   "cell_type": "code",
   "execution_count": 8,
   "metadata": {},
   "outputs": [
    {
     "data": {
      "text/html": [
       "<div>\n",
       "<style scoped>\n",
       "    .dataframe tbody tr th:only-of-type {\n",
       "        vertical-align: middle;\n",
       "    }\n",
       "\n",
       "    .dataframe tbody tr th {\n",
       "        vertical-align: top;\n",
       "    }\n",
       "\n",
       "    .dataframe thead th {\n",
       "        text-align: right;\n",
       "    }\n",
       "</style>\n",
       "<table border=\"1\" class=\"dataframe\">\n",
       "  <thead>\n",
       "    <tr style=\"text-align: right;\">\n",
       "      <th></th>\n",
       "      <th>Toilet</th>\n",
       "      <th>Toilet_Location</th>\n",
       "      <th>Site</th>\n",
       "      <th>PlayArea_Location</th>\n",
       "      <th>nearest_toilet_km</th>\n",
       "    </tr>\n",
       "  </thead>\n",
       "  <tbody>\n",
       "    <tr>\n",
       "      <th>9</th>\n",
       "      <td>Ainslie Park Leisure Centre</td>\n",
       "      <td>55.972014831,-3.2304253895</td>\n",
       "      <td>Boswall/Royston Mains Gardens</td>\n",
       "      <td>55.976224,-3.231857</td>\n",
       "      <td>0.5</td>\n",
       "    </tr>\n",
       "    <tr>\n",
       "      <th>41</th>\n",
       "      <td>Ainslie Park Leisure Centre</td>\n",
       "      <td>55.972014831,-3.2304253895</td>\n",
       "      <td>East Pilton Park</td>\n",
       "      <td>55.973702148062415,-3.2271480560302734</td>\n",
       "      <td>0.3</td>\n",
       "    </tr>\n",
       "    <tr>\n",
       "      <th>56</th>\n",
       "      <td>Ainslie Park Leisure Centre</td>\n",
       "      <td>55.972014831,-3.2304253895</td>\n",
       "      <td>Granton Crescent</td>\n",
       "      <td>55.979609210714784,-3.2244014739990234</td>\n",
       "      <td>0.9</td>\n",
       "    </tr>\n",
       "    <tr>\n",
       "      <th>57</th>\n",
       "      <td>Ainslie Park Leisure Centre</td>\n",
       "      <td>55.972014831,-3.2304253895</td>\n",
       "      <td>Granton Mains East</td>\n",
       "      <td>55.976127514647395,-3.2420825958251953</td>\n",
       "      <td>0.9</td>\n",
       "    </tr>\n",
       "    <tr>\n",
       "      <th>146</th>\n",
       "      <td>Ainslie Park Leisure Centre</td>\n",
       "      <td>55.972014831,-3.2304253895</td>\n",
       "      <td>West Pilton Park</td>\n",
       "      <td>55.9707722945514,-3.246030807495117</td>\n",
       "      <td>1.0</td>\n",
       "    </tr>\n",
       "  </tbody>\n",
       "</table>\n",
       "</div>"
      ],
      "text/plain": [
       "                          Toilet             Toilet_Location  \\\n",
       "9    Ainslie Park Leisure Centre  55.972014831,-3.2304253895   \n",
       "41   Ainslie Park Leisure Centre  55.972014831,-3.2304253895   \n",
       "56   Ainslie Park Leisure Centre  55.972014831,-3.2304253895   \n",
       "57   Ainslie Park Leisure Centre  55.972014831,-3.2304253895   \n",
       "146  Ainslie Park Leisure Centre  55.972014831,-3.2304253895   \n",
       "\n",
       "                              Site                       PlayArea_Location  \\\n",
       "9    Boswall/Royston Mains Gardens                     55.976224,-3.231857   \n",
       "41                East Pilton Park  55.973702148062415,-3.2271480560302734   \n",
       "56                Granton Crescent  55.979609210714784,-3.2244014739990234   \n",
       "57              Granton Mains East  55.976127514647395,-3.2420825958251953   \n",
       "146               West Pilton Park     55.9707722945514,-3.246030807495117   \n",
       "\n",
       "     nearest_toilet_km  \n",
       "9                  0.5  \n",
       "41                 0.3  \n",
       "56                 0.9  \n",
       "57                 0.9  \n",
       "146                1.0  "
      ]
     },
     "execution_count": 8,
     "metadata": {},
     "output_type": "execute_result"
    }
   ],
   "source": [
    "import geopy.distance\n",
    "df['nearest_toilet_km'] = round(df.apply(lambda row: geopy.distance.distance(row['Toilet_Location'], \n",
    "                                                                         row['PlayArea_Location']).km, \n",
    "                                     axis=1),1)\n",
    "# Let's drop those with distance more than 1km\n",
    "df=df[df['nearest_toilet_km']<=1]\n",
    "\n",
    "df.head()"
   ]
  },
  {
   "cell_type": "code",
   "execution_count": 9,
   "metadata": {},
   "outputs": [
    {
     "name": "stderr",
     "output_type": "stream",
     "text": [
      "/Applications/miniconda3/lib/python3.7/site-packages/pandas/core/frame.py:4133: SettingWithCopyWarning: \n",
      "A value is trying to be set on a copy of a slice from a DataFrame\n",
      "\n",
      "See the caveats in the documentation: https://pandas.pydata.org/pandas-docs/stable/user_guide/indexing.html#returning-a-view-versus-a-copy\n",
      "  errors=errors,\n",
      "/Applications/miniconda3/lib/python3.7/site-packages/ipykernel_launcher.py:4: SettingWithCopyWarning: \n",
      "A value is trying to be set on a copy of a slice from a DataFrame\n",
      "\n",
      "See the caveats in the documentation: https://pandas.pydata.org/pandas-docs/stable/user_guide/indexing.html#returning-a-view-versus-a-copy\n",
      "  after removing the cwd from sys.path.\n",
      "/Applications/miniconda3/lib/python3.7/site-packages/ipykernel_launcher.py:5: SettingWithCopyWarning: \n",
      "A value is trying to be set on a copy of a slice from a DataFrame.\n",
      "Try using .loc[row_indexer,col_indexer] = value instead\n",
      "\n",
      "See the caveats in the documentation: https://pandas.pydata.org/pandas-docs/stable/user_guide/indexing.html#returning-a-view-versus-a-copy\n",
      "  \"\"\"\n"
     ]
    },
    {
     "data": {
      "text/html": [
       "<div>\n",
       "<style scoped>\n",
       "    .dataframe tbody tr th:only-of-type {\n",
       "        vertical-align: middle;\n",
       "    }\n",
       "\n",
       "    .dataframe tbody tr th {\n",
       "        vertical-align: top;\n",
       "    }\n",
       "\n",
       "    .dataframe thead th {\n",
       "        text-align: right;\n",
       "    }\n",
       "</style>\n",
       "<table border=\"1\" class=\"dataframe\">\n",
       "  <thead>\n",
       "    <tr style=\"text-align: right;\">\n",
       "      <th></th>\n",
       "      <th>PlayArea_Location</th>\n",
       "      <th>nearest_toilet_km</th>\n",
       "      <th>Location_Type</th>\n",
       "    </tr>\n",
       "    <tr>\n",
       "      <th>Location</th>\n",
       "      <th></th>\n",
       "      <th></th>\n",
       "      <th></th>\n",
       "    </tr>\n",
       "  </thead>\n",
       "  <tbody>\n",
       "    <tr>\n",
       "      <th>Admirality Street</th>\n",
       "      <td>55.97615152741767,-3.1789112091064453</td>\n",
       "      <td>0.3</td>\n",
       "      <td>Play Area</td>\n",
       "    </tr>\n",
       "    <tr>\n",
       "      <th>Allison Park</th>\n",
       "      <td>55.95463010760622,-3.410053253173828</td>\n",
       "      <td>0.5</td>\n",
       "      <td>Play Area</td>\n",
       "    </tr>\n",
       "    <tr>\n",
       "      <th>Ardshiel Avenue (Torrence Park)</th>\n",
       "      <td>55.953523,-3.29278</td>\n",
       "      <td>0.3</td>\n",
       "      <td>Play Area</td>\n",
       "    </tr>\n",
       "    <tr>\n",
       "      <th>Bailie Place (Rear Nos. 1-5)</th>\n",
       "      <td>55.943291,-3.111828</td>\n",
       "      <td>0.5</td>\n",
       "      <td>Play Area</td>\n",
       "    </tr>\n",
       "    <tr>\n",
       "      <th>Balgreen Park</th>\n",
       "      <td>55.94174996445649,-3.2571029663085938</td>\n",
       "      <td>0.4</td>\n",
       "      <td>Play Area</td>\n",
       "    </tr>\n",
       "  </tbody>\n",
       "</table>\n",
       "</div>"
      ],
      "text/plain": [
       "                                                     PlayArea_Location  \\\n",
       "Location                                                                 \n",
       "Admirality Street                55.97615152741767,-3.1789112091064453   \n",
       "Allison Park                      55.95463010760622,-3.410053253173828   \n",
       "Ardshiel Avenue (Torrence Park)                     55.953523,-3.29278   \n",
       "Bailie Place (Rear Nos. 1-5)                       55.943291,-3.111828   \n",
       "Balgreen Park                    55.94174996445649,-3.2571029663085938   \n",
       "\n",
       "                                 nearest_toilet_km Location_Type  \n",
       "Location                                                          \n",
       "Admirality Street                              0.3     Play Area  \n",
       "Allison Park                                   0.5     Play Area  \n",
       "Ardshiel Avenue (Torrence Park)                0.3     Play Area  \n",
       "Bailie Place (Rear Nos. 1-5)                   0.5     Play Area  \n",
       "Balgreen Park                                  0.4     Play Area  "
      ]
     },
     "execution_count": 9,
     "metadata": {},
     "output_type": "execute_result"
    }
   ],
   "source": [
    "# Make a df of the playareas, keeping only unique sites\n",
    "df_playareas=df[['Site','PlayArea_Location','nearest_toilet_km']]\n",
    "df_playareas.rename(columns={'Site':'Location'},inplace=True)\n",
    "df_playareas.sort_values(by=['Location','nearest_toilet_km'], ascending=True, axis=0, inplace=True)\n",
    "df_playareas['Location_Type']='Play Area'\n",
    "df_playareas = df_playareas.groupby('Location', axis=0).first()\n",
    "df_playareas.head()"
   ]
  },
  {
   "cell_type": "code",
   "execution_count": 10,
   "metadata": {},
   "outputs": [
    {
     "data": {
      "text/html": [
       "<div>\n",
       "<style scoped>\n",
       "    .dataframe tbody tr th:only-of-type {\n",
       "        vertical-align: middle;\n",
       "    }\n",
       "\n",
       "    .dataframe tbody tr th {\n",
       "        vertical-align: top;\n",
       "    }\n",
       "\n",
       "    .dataframe thead th {\n",
       "        text-align: right;\n",
       "    }\n",
       "</style>\n",
       "<table border=\"1\" class=\"dataframe\">\n",
       "  <thead>\n",
       "    <tr style=\"text-align: right;\">\n",
       "      <th></th>\n",
       "      <th>nearest_toilet_km</th>\n",
       "      <th>Location_Type</th>\n",
       "      <th>Latitude</th>\n",
       "      <th>Longitude</th>\n",
       "    </tr>\n",
       "    <tr>\n",
       "      <th>Location</th>\n",
       "      <th></th>\n",
       "      <th></th>\n",
       "      <th></th>\n",
       "      <th></th>\n",
       "    </tr>\n",
       "  </thead>\n",
       "  <tbody>\n",
       "    <tr>\n",
       "      <th>Admirality Street</th>\n",
       "      <td>0.3</td>\n",
       "      <td>Play Area</td>\n",
       "      <td>55.97615152741767</td>\n",
       "      <td>-3.1789112091064453</td>\n",
       "    </tr>\n",
       "    <tr>\n",
       "      <th>Allison Park</th>\n",
       "      <td>0.5</td>\n",
       "      <td>Play Area</td>\n",
       "      <td>55.95463010760622</td>\n",
       "      <td>-3.410053253173828</td>\n",
       "    </tr>\n",
       "    <tr>\n",
       "      <th>Ardshiel Avenue (Torrence Park)</th>\n",
       "      <td>0.3</td>\n",
       "      <td>Play Area</td>\n",
       "      <td>55.953523</td>\n",
       "      <td>-3.29278</td>\n",
       "    </tr>\n",
       "    <tr>\n",
       "      <th>Bailie Place (Rear Nos. 1-5)</th>\n",
       "      <td>0.5</td>\n",
       "      <td>Play Area</td>\n",
       "      <td>55.943291</td>\n",
       "      <td>-3.111828</td>\n",
       "    </tr>\n",
       "    <tr>\n",
       "      <th>Balgreen Park</th>\n",
       "      <td>0.4</td>\n",
       "      <td>Play Area</td>\n",
       "      <td>55.94174996445649</td>\n",
       "      <td>-3.2571029663085938</td>\n",
       "    </tr>\n",
       "  </tbody>\n",
       "</table>\n",
       "</div>"
      ],
      "text/plain": [
       "                                 nearest_toilet_km Location_Type  \\\n",
       "Location                                                           \n",
       "Admirality Street                              0.3     Play Area   \n",
       "Allison Park                                   0.5     Play Area   \n",
       "Ardshiel Avenue (Torrence Park)                0.3     Play Area   \n",
       "Bailie Place (Rear Nos. 1-5)                   0.5     Play Area   \n",
       "Balgreen Park                                  0.4     Play Area   \n",
       "\n",
       "                                          Latitude            Longitude  \n",
       "Location                                                                 \n",
       "Admirality Street                55.97615152741767  -3.1789112091064453  \n",
       "Allison Park                     55.95463010760622   -3.410053253173828  \n",
       "Ardshiel Avenue (Torrence Park)          55.953523             -3.29278  \n",
       "Bailie Place (Rear Nos. 1-5)             55.943291            -3.111828  \n",
       "Balgreen Park                    55.94174996445649  -3.2571029663085938  "
      ]
     },
     "execution_count": 10,
     "metadata": {},
     "output_type": "execute_result"
    }
   ],
   "source": [
    "# Split the coordinates into latitude and longitude, as the next function will need\n",
    "df_playareas[['Latitude','Longitude']]=df_playareas['PlayArea_Location'].str.split(',', expand=True)\n",
    "df_playareas=df_playareas.drop('PlayArea_Location', axis=1)\n",
    "df_playareas.head()"
   ]
  },
  {
   "cell_type": "markdown",
   "metadata": {},
   "source": [
    "### Now I want to tidy up the toilets list, so that I can append it later"
   ]
  },
  {
   "cell_type": "code",
   "execution_count": 11,
   "metadata": {},
   "outputs": [
    {
     "name": "stderr",
     "output_type": "stream",
     "text": [
      "/Applications/miniconda3/lib/python3.7/site-packages/pandas/core/frame.py:2963: SettingWithCopyWarning: \n",
      "A value is trying to be set on a copy of a slice from a DataFrame.\n",
      "Try using .loc[row_indexer,col_indexer] = value instead\n",
      "\n",
      "See the caveats in the documentation: https://pandas.pydata.org/pandas-docs/stable/user_guide/indexing.html#returning-a-view-versus-a-copy\n",
      "  self[k1] = value[k2]\n"
     ]
    },
    {
     "data": {
      "text/html": [
       "<div>\n",
       "<style scoped>\n",
       "    .dataframe tbody tr th:only-of-type {\n",
       "        vertical-align: middle;\n",
       "    }\n",
       "\n",
       "    .dataframe tbody tr th {\n",
       "        vertical-align: top;\n",
       "    }\n",
       "\n",
       "    .dataframe thead th {\n",
       "        text-align: right;\n",
       "    }\n",
       "</style>\n",
       "<table border=\"1\" class=\"dataframe\">\n",
       "  <thead>\n",
       "    <tr style=\"text-align: right;\">\n",
       "      <th></th>\n",
       "      <th>Location</th>\n",
       "      <th>Latitude</th>\n",
       "      <th>Longitude</th>\n",
       "      <th>Location_Type</th>\n",
       "    </tr>\n",
       "  </thead>\n",
       "  <tbody>\n",
       "    <tr>\n",
       "      <th>9</th>\n",
       "      <td>Ainslie Park Leisure Centre</td>\n",
       "      <td>55.972014831</td>\n",
       "      <td>-3.2304253895</td>\n",
       "      <td>Toilet</td>\n",
       "    </tr>\n",
       "    <tr>\n",
       "      <th>41</th>\n",
       "      <td>Ainslie Park Leisure Centre</td>\n",
       "      <td>55.972014831</td>\n",
       "      <td>-3.2304253895</td>\n",
       "      <td>Toilet</td>\n",
       "    </tr>\n",
       "    <tr>\n",
       "      <th>56</th>\n",
       "      <td>Ainslie Park Leisure Centre</td>\n",
       "      <td>55.972014831</td>\n",
       "      <td>-3.2304253895</td>\n",
       "      <td>Toilet</td>\n",
       "    </tr>\n",
       "    <tr>\n",
       "      <th>57</th>\n",
       "      <td>Ainslie Park Leisure Centre</td>\n",
       "      <td>55.972014831</td>\n",
       "      <td>-3.2304253895</td>\n",
       "      <td>Toilet</td>\n",
       "    </tr>\n",
       "    <tr>\n",
       "      <th>146</th>\n",
       "      <td>Ainslie Park Leisure Centre</td>\n",
       "      <td>55.972014831</td>\n",
       "      <td>-3.2304253895</td>\n",
       "      <td>Toilet</td>\n",
       "    </tr>\n",
       "  </tbody>\n",
       "</table>\n",
       "</div>"
      ],
      "text/plain": [
       "                        Location      Latitude      Longitude Location_Type\n",
       "9    Ainslie Park Leisure Centre  55.972014831  -3.2304253895        Toilet\n",
       "41   Ainslie Park Leisure Centre  55.972014831  -3.2304253895        Toilet\n",
       "56   Ainslie Park Leisure Centre  55.972014831  -3.2304253895        Toilet\n",
       "57   Ainslie Park Leisure Centre  55.972014831  -3.2304253895        Toilet\n",
       "146  Ainslie Park Leisure Centre  55.972014831  -3.2304253895        Toilet"
      ]
     },
     "execution_count": 11,
     "metadata": {},
     "output_type": "execute_result"
    }
   ],
   "source": [
    "df_toilets=df[['Toilet','Toilet_Location']]\n",
    "df_toilets[['Latitude','Longitude']]=df_toilets['Toilet_Location'].str.split(',', expand=True)\n",
    "df_toilets=df_toilets.drop('Toilet_Location', axis=1)\n",
    "df_toilets.rename(columns={'Toilet':'Location'},inplace=True)\n",
    "df_toilets['Location_Type']='Toilet'\n",
    "df_toilets.head()"
   ]
  },
  {
   "cell_type": "markdown",
   "metadata": {},
   "source": [
    "### Dataset 3: Locations of Nearby Venues"
   ]
  },
  {
   "cell_type": "code",
   "execution_count": 20,
   "metadata": {},
   "outputs": [],
   "source": [
    "def getNearbyVenues(names, latitudes, longitudes):\n",
    "    \n",
    "    venues_list=[]\n",
    "    for name, lat, lng in zip(names, latitudes, longitudes):\n",
    "        url = 'https://api.foursquare.com/v2/venues/explore?&client_id=PBIUIPDGY42UF5KTZOLDQI1DDLGCSYDTTC54CN5QVSI4KV0L&client_secret=KZ4S0TCURB2O2MP4AOQTC3CBXKTE54KG1VCVKPHHS5EH4IYB&v=20180605&ll={},{}&radius=1000&limit=50'.format(\n",
    "            lat, lng)\n",
    "        results = requests.get(url).json()[\"response\"]['groups'][0]['items']\n",
    "        venues_list.append([(\n",
    "            v['venue']['name'], \n",
    "            v['venue']['location']['lat'], \n",
    "            v['venue']['location']['lng'],  \n",
    "            v['venue']['categories'][0]['name']) for v in results])\n",
    "        nearby_venues = pd.DataFrame([item for venue_list in venues_list for item in venue_list])\n",
    "        nearby_venues.columns = ['Location', \n",
    "                  'Latitude', \n",
    "                  'Longitude', \n",
    "                  'Category']\n",
    "    return(nearby_venues)"
   ]
  },
  {
   "cell_type": "code",
   "execution_count": 24,
   "metadata": {},
   "outputs": [
    {
     "data": {
      "text/plain": [
       "{'meta': {'code': 429,\n",
       "  'errorType': 'quota_exceeded',\n",
       "  'errorDetail': 'Quota exceeded',\n",
       "  'requestId': '5ef51a5c2f5bc4555b811d70'},\n",
       " 'response': {}}"
      ]
     },
     "execution_count": 24,
     "metadata": {},
     "output_type": "execute_result"
    }
   ],
   "source": [
    "lat=df_playareas['Latitude'][0]\n",
    "lng=df_playareas['Longitude'][0]\n",
    "url = 'https://api.foursquare.com/v2/venues/explore?&client_id=PBIUIPDGY42UF5KTZOLDQI1DDLGCSYDTTC54CN5QVSI4KV0L&client_secret=KZ4S0TCURB2O2MP4AOQTC3CBXKTE54KG1VCVKPHHS5EH4IYB&v=20180605&ll={},{}&radius=1000&limit=50'.format(\n",
    "            lat, lng)\n",
    "requests.get(url).json()"
   ]
  },
  {
   "cell_type": "code",
   "execution_count": 21,
   "metadata": {},
   "outputs": [
    {
     "ename": "KeyError",
     "evalue": "'groups'",
     "output_type": "error",
     "traceback": [
      "\u001b[0;31m---------------------------------------------------------------------------\u001b[0m",
      "\u001b[0;31mKeyError\u001b[0m                                  Traceback (most recent call last)",
      "\u001b[0;32m<ipython-input-21-de98e56a127b>\u001b[0m in \u001b[0;36m<module>\u001b[0;34m\u001b[0m\n\u001b[1;32m      1\u001b[0m venues = getNearbyVenues(names=df_playareas.index,\n\u001b[1;32m      2\u001b[0m                                    \u001b[0mlatitudes\u001b[0m\u001b[0;34m=\u001b[0m\u001b[0mdf_playareas\u001b[0m\u001b[0;34m[\u001b[0m\u001b[0;34m'Latitude'\u001b[0m\u001b[0;34m]\u001b[0m\u001b[0;34m,\u001b[0m\u001b[0;34m\u001b[0m\u001b[0;34m\u001b[0m\u001b[0m\n\u001b[0;32m----> 3\u001b[0;31m                                    longitudes=df_playareas['Longitude'])\n\u001b[0m\u001b[1;32m      4\u001b[0m \u001b[0mvenues\u001b[0m\u001b[0;34m.\u001b[0m\u001b[0mhead\u001b[0m\u001b[0;34m(\u001b[0m\u001b[0;34m)\u001b[0m\u001b[0;34m\u001b[0m\u001b[0;34m\u001b[0m\u001b[0m\n",
      "\u001b[0;32m<ipython-input-20-7111ac1a5944>\u001b[0m in \u001b[0;36mgetNearbyVenues\u001b[0;34m(names, latitudes, longitudes)\u001b[0m\n\u001b[1;32m      5\u001b[0m         url = 'https://api.foursquare.com/v2/venues/explore?&client_id=PBIUIPDGY42UF5KTZOLDQI1DDLGCSYDTTC54CN5QVSI4KV0L&client_secret=KZ4S0TCURB2O2MP4AOQTC3CBXKTE54KG1VCVKPHHS5EH4IYB&v=20180605&ll={},{}&radius=1000&limit=50'.format(\n\u001b[1;32m      6\u001b[0m             lat, lng)\n\u001b[0;32m----> 7\u001b[0;31m         \u001b[0mresults\u001b[0m \u001b[0;34m=\u001b[0m \u001b[0mrequests\u001b[0m\u001b[0;34m.\u001b[0m\u001b[0mget\u001b[0m\u001b[0;34m(\u001b[0m\u001b[0murl\u001b[0m\u001b[0;34m)\u001b[0m\u001b[0;34m.\u001b[0m\u001b[0mjson\u001b[0m\u001b[0;34m(\u001b[0m\u001b[0;34m)\u001b[0m\u001b[0;34m[\u001b[0m\u001b[0;34m\"response\"\u001b[0m\u001b[0;34m]\u001b[0m\u001b[0;34m[\u001b[0m\u001b[0;34m'groups'\u001b[0m\u001b[0;34m]\u001b[0m\u001b[0;34m[\u001b[0m\u001b[0;36m0\u001b[0m\u001b[0;34m]\u001b[0m\u001b[0;34m[\u001b[0m\u001b[0;34m'items'\u001b[0m\u001b[0;34m]\u001b[0m\u001b[0;34m\u001b[0m\u001b[0;34m\u001b[0m\u001b[0m\n\u001b[0m\u001b[1;32m      8\u001b[0m         venues_list.append([(\n\u001b[1;32m      9\u001b[0m             \u001b[0mv\u001b[0m\u001b[0;34m[\u001b[0m\u001b[0;34m'venue'\u001b[0m\u001b[0;34m]\u001b[0m\u001b[0;34m[\u001b[0m\u001b[0;34m'name'\u001b[0m\u001b[0;34m]\u001b[0m\u001b[0;34m,\u001b[0m\u001b[0;34m\u001b[0m\u001b[0;34m\u001b[0m\u001b[0m\n",
      "\u001b[0;31mKeyError\u001b[0m: 'groups'"
     ]
    }
   ],
   "source": [
    "venues = getNearbyVenues(names=df_playareas.index,\n",
    "                                   latitudes=df_playareas['Latitude'],\n",
    "                                   longitudes=df_playareas['Longitude'])\n",
    "venues.head()"
   ]
  },
  {
   "cell_type": "code",
   "execution_count": null,
   "metadata": {},
   "outputs": [],
   "source": [
    "# We are only interested in coffee shops and cafes\n",
    "playarea_venues=playarea_venues[playarea_venues['Category'].isin([\"Café\",\"Coffee Shop\"])]\n",
    "playarea_venues=playarea_venues.drop('Category', axis=1)\n",
    "playarea_venues['Location_Type']=;Coffee Shop'\n",
    "playarea_venues.head(10)"
   ]
  },
  {
   "cell_type": "code",
   "execution_count": null,
   "metadata": {},
   "outputs": [],
   "source": [
    "# Link them together\n",
    "df_merged=pd.append(dfx_slice,playarea_venues)\n",
    "df_merged=df_merged[['Play_Area','nearest_toilet_km','Venue','coffee_km']]\n",
    "df_merged.head()"
   ]
  },
  {
   "cell_type": "code",
   "execution_count": null,
   "metadata": {},
   "outputs": [],
   "source": []
  }
 ],
 "metadata": {
  "kernelspec": {
   "display_name": "Python 3",
   "language": "python",
   "name": "python3"
  },
  "language_info": {
   "codemirror_mode": {
    "name": "ipython",
    "version": 3
   },
   "file_extension": ".py",
   "mimetype": "text/x-python",
   "name": "python",
   "nbconvert_exporter": "python",
   "pygments_lexer": "ipython3",
   "version": "3.7.7"
  }
 },
 "nbformat": 4,
 "nbformat_minor": 4
}
